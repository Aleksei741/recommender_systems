{
 "cells": [
  {
   "cell_type": "code",
   "execution_count": 1,
   "metadata": {},
   "outputs": [],
   "source": [
    "import pandas as pd\n",
    "import numpy as np\n",
    "import matplotlib.pyplot as plt\n",
    "%matplotlib inline\n",
    "\n",
    "# Для работы с матрицами\n",
    "from scipy.sparse import csr_matrix\n",
    "\n",
    "# Матричная факторизация\n",
    "from implicit.als import AlternatingLeastSquares\n",
    "from implicit.nearest_neighbours import ItemItemRecommender  # нужен для одного трюка\n",
    "from implicit.nearest_neighbours import bm25_weight, tfidf_weight\n",
    "\n",
    "# Модель второго уровня\n",
    "from lightgbm import LGBMClassifier\n",
    "\n",
    "import os, sys\n",
    "module_path = os.path.abspath(os.path.join(os.pardir))\n",
    "if module_path not in sys.path:\n",
    "    sys.path.append(module_path)\n",
    "\n",
    "# Написанные нами функции\n",
    "from src.metrics import precision_at_k, recall_at_k\n",
    "\n",
    "import missingno as msno"
   ]
  },
  {
   "cell_type": "code",
   "execution_count": 2,
   "metadata": {},
   "outputs": [],
   "source": [
    "data = pd.read_csv('../data/retail_train.csv')\n",
    "item_features = pd.read_csv('../data/product.csv')\n",
    "user_features = pd.read_csv('../data/hh_demographic.csv')"
   ]
  },
  {
   "cell_type": "markdown",
   "metadata": {},
   "source": [
    "# Анализданных"
   ]
  },
  {
   "cell_type": "code",
   "execution_count": 3,
   "metadata": {},
   "outputs": [
    {
     "name": "stdout",
     "output_type": "stream",
     "text": [
      "<class 'pandas.core.frame.DataFrame'>\n",
      "RangeIndex: 2396804 entries, 0 to 2396803\n",
      "Data columns (total 12 columns):\n",
      " #   Column             Dtype  \n",
      "---  ------             -----  \n",
      " 0   user_id            int64  \n",
      " 1   basket_id          int64  \n",
      " 2   day                int64  \n",
      " 3   item_id            int64  \n",
      " 4   quantity           int64  \n",
      " 5   sales_value        float64\n",
      " 6   store_id           int64  \n",
      " 7   retail_disc        float64\n",
      " 8   trans_time         int64  \n",
      " 9   week_no            int64  \n",
      " 10  coupon_disc        float64\n",
      " 11  coupon_match_disc  float64\n",
      "dtypes: float64(4), int64(8)\n",
      "memory usage: 219.4 MB\n"
     ]
    }
   ],
   "source": [
    "data.info()"
   ]
  },
  {
   "cell_type": "code",
   "execution_count": 4,
   "metadata": {},
   "outputs": [
    {
     "data": {
      "text/html": [
       "<div>\n",
       "<style scoped>\n",
       "    .dataframe tbody tr th:only-of-type {\n",
       "        vertical-align: middle;\n",
       "    }\n",
       "\n",
       "    .dataframe tbody tr th {\n",
       "        vertical-align: top;\n",
       "    }\n",
       "\n",
       "    .dataframe thead th {\n",
       "        text-align: right;\n",
       "    }\n",
       "</style>\n",
       "<table border=\"1\" class=\"dataframe\">\n",
       "  <thead>\n",
       "    <tr style=\"text-align: right;\">\n",
       "      <th></th>\n",
       "      <th>count</th>\n",
       "      <th>mean</th>\n",
       "      <th>std</th>\n",
       "      <th>min</th>\n",
       "      <th>25%</th>\n",
       "      <th>50%</th>\n",
       "      <th>75%</th>\n",
       "      <th>max</th>\n",
       "    </tr>\n",
       "  </thead>\n",
       "  <tbody>\n",
       "    <tr>\n",
       "      <th>user_id</th>\n",
       "      <td>2396804.0</td>\n",
       "      <td>1.271904e+03</td>\n",
       "      <td>7.265644e+02</td>\n",
       "      <td>1.000000e+00</td>\n",
       "      <td>6.550000e+02</td>\n",
       "      <td>1.271000e+03</td>\n",
       "      <td>1.914000e+03</td>\n",
       "      <td>2.500000e+03</td>\n",
       "    </tr>\n",
       "    <tr>\n",
       "      <th>basket_id</th>\n",
       "      <td>2396804.0</td>\n",
       "      <td>3.336643e+10</td>\n",
       "      <td>4.284798e+09</td>\n",
       "      <td>2.698485e+10</td>\n",
       "      <td>3.008714e+10</td>\n",
       "      <td>3.241998e+10</td>\n",
       "      <td>3.514580e+10</td>\n",
       "      <td>4.165679e+10</td>\n",
       "    </tr>\n",
       "    <tr>\n",
       "      <th>day</th>\n",
       "      <td>2396804.0</td>\n",
       "      <td>3.639770e+02</td>\n",
       "      <td>1.759385e+02</td>\n",
       "      <td>1.000000e+00</td>\n",
       "      <td>2.160000e+02</td>\n",
       "      <td>3.660000e+02</td>\n",
       "      <td>5.150000e+02</td>\n",
       "      <td>6.630000e+02</td>\n",
       "    </tr>\n",
       "    <tr>\n",
       "      <th>item_id</th>\n",
       "      <td>2396804.0</td>\n",
       "      <td>2.827247e+06</td>\n",
       "      <td>3.732798e+06</td>\n",
       "      <td>2.567100e+04</td>\n",
       "      <td>9.169930e+05</td>\n",
       "      <td>1.027569e+06</td>\n",
       "      <td>1.132178e+06</td>\n",
       "      <td>1.802456e+07</td>\n",
       "    </tr>\n",
       "    <tr>\n",
       "      <th>quantity</th>\n",
       "      <td>2396804.0</td>\n",
       "      <td>1.003763e+02</td>\n",
       "      <td>1.152379e+03</td>\n",
       "      <td>0.000000e+00</td>\n",
       "      <td>1.000000e+00</td>\n",
       "      <td>1.000000e+00</td>\n",
       "      <td>1.000000e+00</td>\n",
       "      <td>8.963800e+04</td>\n",
       "    </tr>\n",
       "    <tr>\n",
       "      <th>sales_value</th>\n",
       "      <td>2396804.0</td>\n",
       "      <td>3.100821e+00</td>\n",
       "      <td>4.210229e+00</td>\n",
       "      <td>0.000000e+00</td>\n",
       "      <td>1.290000e+00</td>\n",
       "      <td>2.000000e+00</td>\n",
       "      <td>3.490000e+00</td>\n",
       "      <td>8.400000e+02</td>\n",
       "    </tr>\n",
       "    <tr>\n",
       "      <th>store_id</th>\n",
       "      <td>2396804.0</td>\n",
       "      <td>3.048227e+03</td>\n",
       "      <td>8.785542e+03</td>\n",
       "      <td>1.000000e+00</td>\n",
       "      <td>3.300000e+02</td>\n",
       "      <td>3.700000e+02</td>\n",
       "      <td>4.220000e+02</td>\n",
       "      <td>3.428000e+04</td>\n",
       "    </tr>\n",
       "    <tr>\n",
       "      <th>retail_disc</th>\n",
       "      <td>2396804.0</td>\n",
       "      <td>-5.400708e-01</td>\n",
       "      <td>1.245824e+00</td>\n",
       "      <td>-1.300200e+02</td>\n",
       "      <td>-6.900000e-01</td>\n",
       "      <td>-2.000000e-02</td>\n",
       "      <td>0.000000e+00</td>\n",
       "      <td>3.990000e+00</td>\n",
       "    </tr>\n",
       "    <tr>\n",
       "      <th>trans_time</th>\n",
       "      <td>2396804.0</td>\n",
       "      <td>1.561714e+03</td>\n",
       "      <td>4.015691e+02</td>\n",
       "      <td>0.000000e+00</td>\n",
       "      <td>1.307000e+03</td>\n",
       "      <td>1.614000e+03</td>\n",
       "      <td>1.844000e+03</td>\n",
       "      <td>2.359000e+03</td>\n",
       "    </tr>\n",
       "    <tr>\n",
       "      <th>week_no</th>\n",
       "      <td>2396804.0</td>\n",
       "      <td>5.268156e+01</td>\n",
       "      <td>2.513310e+01</td>\n",
       "      <td>1.000000e+00</td>\n",
       "      <td>3.200000e+01</td>\n",
       "      <td>5.300000e+01</td>\n",
       "      <td>7.400000e+01</td>\n",
       "      <td>9.500000e+01</td>\n",
       "    </tr>\n",
       "    <tr>\n",
       "      <th>coupon_disc</th>\n",
       "      <td>2396804.0</td>\n",
       "      <td>-1.638696e-02</td>\n",
       "      <td>2.168615e-01</td>\n",
       "      <td>-5.593000e+01</td>\n",
       "      <td>0.000000e+00</td>\n",
       "      <td>0.000000e+00</td>\n",
       "      <td>0.000000e+00</td>\n",
       "      <td>0.000000e+00</td>\n",
       "    </tr>\n",
       "    <tr>\n",
       "      <th>coupon_match_disc</th>\n",
       "      <td>2396804.0</td>\n",
       "      <td>-2.897905e-03</td>\n",
       "      <td>3.974618e-02</td>\n",
       "      <td>-7.700000e+00</td>\n",
       "      <td>0.000000e+00</td>\n",
       "      <td>0.000000e+00</td>\n",
       "      <td>0.000000e+00</td>\n",
       "      <td>0.000000e+00</td>\n",
       "    </tr>\n",
       "  </tbody>\n",
       "</table>\n",
       "</div>"
      ],
      "text/plain": [
       "                       count          mean           std           min  \\\n",
       "user_id            2396804.0  1.271904e+03  7.265644e+02  1.000000e+00   \n",
       "basket_id          2396804.0  3.336643e+10  4.284798e+09  2.698485e+10   \n",
       "day                2396804.0  3.639770e+02  1.759385e+02  1.000000e+00   \n",
       "item_id            2396804.0  2.827247e+06  3.732798e+06  2.567100e+04   \n",
       "quantity           2396804.0  1.003763e+02  1.152379e+03  0.000000e+00   \n",
       "sales_value        2396804.0  3.100821e+00  4.210229e+00  0.000000e+00   \n",
       "store_id           2396804.0  3.048227e+03  8.785542e+03  1.000000e+00   \n",
       "retail_disc        2396804.0 -5.400708e-01  1.245824e+00 -1.300200e+02   \n",
       "trans_time         2396804.0  1.561714e+03  4.015691e+02  0.000000e+00   \n",
       "week_no            2396804.0  5.268156e+01  2.513310e+01  1.000000e+00   \n",
       "coupon_disc        2396804.0 -1.638696e-02  2.168615e-01 -5.593000e+01   \n",
       "coupon_match_disc  2396804.0 -2.897905e-03  3.974618e-02 -7.700000e+00   \n",
       "\n",
       "                            25%           50%           75%           max  \n",
       "user_id            6.550000e+02  1.271000e+03  1.914000e+03  2.500000e+03  \n",
       "basket_id          3.008714e+10  3.241998e+10  3.514580e+10  4.165679e+10  \n",
       "day                2.160000e+02  3.660000e+02  5.150000e+02  6.630000e+02  \n",
       "item_id            9.169930e+05  1.027569e+06  1.132178e+06  1.802456e+07  \n",
       "quantity           1.000000e+00  1.000000e+00  1.000000e+00  8.963800e+04  \n",
       "sales_value        1.290000e+00  2.000000e+00  3.490000e+00  8.400000e+02  \n",
       "store_id           3.300000e+02  3.700000e+02  4.220000e+02  3.428000e+04  \n",
       "retail_disc       -6.900000e-01 -2.000000e-02  0.000000e+00  3.990000e+00  \n",
       "trans_time         1.307000e+03  1.614000e+03  1.844000e+03  2.359000e+03  \n",
       "week_no            3.200000e+01  5.300000e+01  7.400000e+01  9.500000e+01  \n",
       "coupon_disc        0.000000e+00  0.000000e+00  0.000000e+00  0.000000e+00  \n",
       "coupon_match_disc  0.000000e+00  0.000000e+00  0.000000e+00  0.000000e+00  "
      ]
     },
     "execution_count": 4,
     "metadata": {},
     "output_type": "execute_result"
    }
   ],
   "source": [
    "data.describe().T"
   ]
  },
  {
   "cell_type": "code",
   "execution_count": 5,
   "metadata": {},
   "outputs": [
    {
     "name": "stdout",
     "output_type": "stream",
     "text": [
      "<class 'pandas.core.frame.DataFrame'>\n",
      "RangeIndex: 92353 entries, 0 to 92352\n",
      "Data columns (total 7 columns):\n",
      " #   Column                Non-Null Count  Dtype \n",
      "---  ------                --------------  ----- \n",
      " 0   PRODUCT_ID            92353 non-null  int64 \n",
      " 1   MANUFACTURER          92353 non-null  int64 \n",
      " 2   DEPARTMENT            92353 non-null  object\n",
      " 3   BRAND                 92353 non-null  object\n",
      " 4   COMMODITY_DESC        92353 non-null  object\n",
      " 5   SUB_COMMODITY_DESC    92353 non-null  object\n",
      " 6   CURR_SIZE_OF_PRODUCT  92353 non-null  object\n",
      "dtypes: int64(2), object(5)\n",
      "memory usage: 4.9+ MB\n"
     ]
    }
   ],
   "source": [
    "item_features.info()"
   ]
  },
  {
   "cell_type": "code",
   "execution_count": 6,
   "metadata": {},
   "outputs": [
    {
     "name": "stdout",
     "output_type": "stream",
     "text": [
      "<class 'pandas.core.frame.DataFrame'>\n",
      "RangeIndex: 801 entries, 0 to 800\n",
      "Data columns (total 8 columns):\n",
      " #   Column               Non-Null Count  Dtype \n",
      "---  ------               --------------  ----- \n",
      " 0   AGE_DESC             801 non-null    object\n",
      " 1   MARITAL_STATUS_CODE  801 non-null    object\n",
      " 2   INCOME_DESC          801 non-null    object\n",
      " 3   HOMEOWNER_DESC       801 non-null    object\n",
      " 4   HH_COMP_DESC         801 non-null    object\n",
      " 5   HOUSEHOLD_SIZE_DESC  801 non-null    object\n",
      " 6   KID_CATEGORY_DESC    801 non-null    object\n",
      " 7   household_key        801 non-null    int64 \n",
      "dtypes: int64(1), object(7)\n",
      "memory usage: 50.2+ KB\n"
     ]
    }
   ],
   "source": [
    "user_features.info()"
   ]
  },
  {
   "cell_type": "markdown",
   "metadata": {},
   "source": [
    "# Подготовка данных"
   ]
  },
  {
   "cell_type": "code",
   "execution_count": 7,
   "metadata": {},
   "outputs": [],
   "source": [
    "# column processing\n",
    "item_features.columns = [col.lower() for col in item_features.columns]\n",
    "user_features.columns = [col.lower() for col in user_features.columns]\n",
    "\n",
    "item_features.rename(columns={'product_id': 'item_id'}, inplace=True)\n",
    "user_features.rename(columns={'household_key': 'user_id'}, inplace=True)"
   ]
  },
  {
   "cell_type": "code",
   "execution_count": 8,
   "metadata": {},
   "outputs": [],
   "source": [
    "def prefilter_items(data, take_n_popular=5000, item_features=None):\n",
    "    # Уберем самые популярные товары (их и так купят)\n",
    "    popularity = data.groupby('item_id')['user_id'].nunique().reset_index() / data['user_id'].nunique()\n",
    "    popularity.rename(columns={'user_id': 'share_unique_users'}, inplace=True)\n",
    "\n",
    "    top_popular = popularity[popularity['share_unique_users'] > 0.2].item_id.tolist()\n",
    "    data = data[~data['item_id'].isin(top_popular)]\n",
    "\n",
    "    # Уберем самые НЕ популярные товары (их и так НЕ купят)\n",
    "    top_notpopular = popularity[popularity['share_unique_users'] < 0.02].item_id.tolist()\n",
    "    data = data[~data['item_id'].isin(top_notpopular)]\n",
    "\n",
    "    # Уберем товары, которые не продавались за последние 12 месяцев\n",
    "\n",
    "    # Уберем не интересные для рекоммендаций категории (department)\n",
    "    if item_features is not None:\n",
    "        department_size = pd.DataFrame(item_features.\\\n",
    "                                        groupby('department')['item_id'].nunique().\\\n",
    "                                        sort_values(ascending=False)).reset_index()\n",
    "\n",
    "        department_size.columns = ['department', 'n_items']\n",
    "        rare_departments = department_size[department_size['n_items'] < 150].department.tolist()\n",
    "        items_in_rare_departments = item_features[item_features['department'].isin(rare_departments)].item_id.unique().tolist()\n",
    "\n",
    "        data = data[~data['item_id'].isin(items_in_rare_departments)]\n",
    "\n",
    "\n",
    "    # Уберем слишком дешевые товары (на них не заработаем). 1 покупка из рассылок стоит 60 руб.\n",
    "    data['price'] = data['sales_value'] / (np.maximum(data['quantity'], 1))\n",
    "    data = data[data['price'] > 1]\n",
    "\n",
    "    # Уберем слишком дорогие товарыs\n",
    "    data = data[data['price'] < 50]\n",
    "\n",
    "    # Возбмем топ по популярности\n",
    "    popularity = data.groupby('item_id')['quantity'].sum().reset_index()\n",
    "    popularity.rename(columns={'quantity': 'n_sold'}, inplace=True)\n",
    "\n",
    "    top = popularity.sort_values('n_sold', ascending=False).iloc[5:take_n_popular+5, :].item_id.tolist()\n",
    "    \n",
    "    # Заведем фиктивный item_id (если юзер покупал товары из топ-5000, то он \"купил\" такой товар)\n",
    "    data.loc[~data['item_id'].isin(top), 'item_id'] = 999999\n",
    "    \n",
    "    # ...\n",
    "\n",
    "    return data"
   ]
  },
  {
   "cell_type": "code",
   "execution_count": 9,
   "metadata": {},
   "outputs": [],
   "source": [
    "val_lvl_1_size_weeks = 6\n",
    "val_lvl_2_size_weeks = 3\n",
    "\n",
    "data_train_lvl_1 = data[data['week_no'] < data['week_no'].max() - (val_lvl_1_size_weeks + val_lvl_2_size_weeks)]\n",
    "data_val_lvl_1 = data[(data['week_no'] >= data['week_no'].max() - (val_lvl_1_size_weeks + val_lvl_2_size_weeks)) &\n",
    "                      (data['week_no'] < data['week_no'].max() - (val_lvl_2_size_weeks))]\n",
    "\n",
    "data_train_lvl_2 = data_val_lvl_1.copy()  # Для наглядности. Далее мы добавим изменения, и они будут отличаться\n",
    "data_val_lvl_2 = data[data['week_no'] >= data['week_no'].max() - val_lvl_2_size_weeks]\n",
    "\n",
    "data_train_lvl_1 = prefilter_items(data_train_lvl_1, item_features=item_features, take_n_popular=10000)"
   ]
  },
  {
   "cell_type": "markdown",
   "metadata": {},
   "source": [
    "# Строим первую модель"
   ]
  },
  {
   "cell_type": "code",
   "execution_count": 10,
   "metadata": {},
   "outputs": [
    {
     "name": "stderr",
     "output_type": "stream",
     "text": [
      "WARNING:root:OpenBLAS detected. Its highly recommend to set the environment variable 'export OPENBLAS_NUM_THREADS=1' to disable its internal multithreading\n"
     ]
    },
    {
     "data": {
      "application/vnd.jupyter.widget-view+json": {
       "model_id": "b94b144fce4e48b3be60a21f6e1d7316",
       "version_major": 2,
       "version_minor": 0
      },
      "text/plain": [
       "HBox(children=(FloatProgress(value=0.0, max=15.0), HTML(value='')))"
      ]
     },
     "metadata": {},
     "output_type": "display_data"
    },
    {
     "name": "stdout",
     "output_type": "stream",
     "text": [
      "\n"
     ]
    },
    {
     "data": {
      "application/vnd.jupyter.widget-view+json": {
       "model_id": "556cc08b23df4efabdd173ff25d48e79",
       "version_major": 2,
       "version_minor": 0
      },
      "text/plain": [
       "HBox(children=(FloatProgress(value=0.0, max=10001.0), HTML(value='')))"
      ]
     },
     "metadata": {},
     "output_type": "display_data"
    },
    {
     "name": "stdout",
     "output_type": "stream",
     "text": [
      "\n"
     ]
    }
   ],
   "source": [
    "class MainRecommender:\n",
    "    \"\"\"Рекоммендации, которые можно получить из ALS\n",
    "    \n",
    "    Input\n",
    "    -----\n",
    "    user_item_matrix: pd.DataFrame\n",
    "        Матрица взаимодействий user-item\n",
    "    \"\"\"\n",
    "    \n",
    "    def __init__(self, data, weighting=True):\n",
    "        \n",
    "        # your_code. Это не обязательная часть. Но если вам удобно что-либо посчитать тут - можно это сделать\n",
    "        self.data = data.copy()\n",
    "        self.popularity = self.data.groupby('item_id')['quantity'].sum().reset_index()\n",
    "        self.popularity.rename(columns={'quantity': 'n_sold'}, inplace=True)\n",
    "        self.popularity = self.popularity.sort_values('n_sold', ascending=False).item_id.tolist()\t\t\n",
    "        \n",
    "        self.user_item_matrix = self.prepare_matrix(data)  # pd.DataFrame\n",
    "        self.id_to_itemid, self.id_to_userid,\\\n",
    "            self.itemid_to_id, self.userid_to_id = self.prepare_dicts(self.user_item_matrix)\n",
    "        \n",
    "        if weighting:\n",
    "            self.user_item_matrix = bm25_weight(self.user_item_matrix.T).T \n",
    "        \n",
    "        self.model = self.fit(self.user_item_matrix)\n",
    "        self.own_recommender = self.fit_own_recommender(self.user_item_matrix)\n",
    "     \n",
    "    @staticmethod\n",
    "    def prepare_data(data, val_lvl_1_size_weeks = 6, val_lvl_2_size_weeks = 3):       \n",
    "        data_train_lvl_1 = data[data['week_no'] < data['week_no'].max() - (val_lvl_1_size_weeks + val_lvl_2_size_weeks)]\n",
    "        data_val_lvl_1 = data[(data['week_no'] >= data['week_no'].max() - (val_lvl_1_size_weeks + val_lvl_2_size_weeks)) &\n",
    "                              (data['week_no'] < data['week_no'].max() - (val_lvl_2_size_weeks))]\n",
    "\n",
    "        data_train_lvl_2 = data_val_lvl_1.copy() \n",
    "        data_val_lvl_2 = data[data['week_no'] >= data['week_no'].max() - val_lvl_2_size_weeks]\n",
    "\n",
    "        return data_train_lvl_1, data_val_lvl_1, data_train_lvl_2, data_val_lvl_2\n",
    "    \n",
    "    @staticmethod\n",
    "    def prepare_matrix(data):\n",
    "        \n",
    "        # your_code\n",
    "        user_item_matrix = pd.pivot_table(data=data, \n",
    "                                          index='user_id', columns='item_id', \n",
    "                                          values='quantity', # Можно пробовать другие варианты\n",
    "                                          aggfunc='count', \n",
    "                                          fill_value=0)\n",
    "        \n",
    "        user_item_matrix = user_item_matrix.astype(float) # необходимый тип матрицы для implicit\n",
    "        \n",
    "        return user_item_matrix\n",
    "    \n",
    "    @staticmethod\n",
    "    def prepare_dicts(user_item_matrix):\n",
    "        \"\"\"Подготавливает вспомогательные словари\"\"\"\n",
    "        \n",
    "        userids = user_item_matrix.index.values\n",
    "        itemids = user_item_matrix.columns.values\n",
    "\n",
    "        matrix_userids = np.arange(len(userids))\n",
    "        matrix_itemids = np.arange(len(itemids))\n",
    "\n",
    "        id_to_itemid = dict(zip(matrix_itemids, itemids))\n",
    "        id_to_userid = dict(zip(matrix_userids, userids))\n",
    "\n",
    "        itemid_to_id = dict(zip(itemids, matrix_itemids))\n",
    "        userid_to_id = dict(zip(userids, matrix_userids))\n",
    "        \n",
    "        return id_to_itemid, id_to_userid, itemid_to_id, userid_to_id\n",
    "     \n",
    "    @staticmethod\n",
    "    def fit_own_recommender(user_item_matrix):\n",
    "        \"\"\"Обучает модель, которая рекомендует товары, среди товаров, купленных юзером\"\"\"\n",
    "    \n",
    "        own_recommender = ItemItemRecommender(K=1, num_threads=4)\n",
    "        own_recommender.fit(csr_matrix(user_item_matrix).T.tocsr())\n",
    "        \n",
    "        return own_recommender\n",
    "    \n",
    "    @staticmethod\n",
    "    def fit(user_item_matrix, n_factors=20, regularization=0.001, iterations=15, num_threads=4):\n",
    "        \"\"\"Обучает ALS\"\"\"\n",
    "        \n",
    "        model = AlternatingLeastSquares(factors=n_factors, \n",
    "                                             regularization=regularization,\n",
    "                                             iterations=iterations,  \n",
    "                                             num_threads=num_threads)\n",
    "        model.fit(csr_matrix(user_item_matrix).T.tocsr())\n",
    "        \n",
    "        return model    \n",
    "\n",
    "    def get_als_recommendations(self, user, N=5):\n",
    "\n",
    "        filter_items = [self.itemid_to_id[999999]]\n",
    "        if user not in self.userid_to_id.keys():\n",
    "            return self.popularity[:N]\n",
    "\n",
    "        # your_code\n",
    "        sparse_user_item=csr_matrix(self.user_item_matrix).tocsr()\n",
    "        \n",
    "        res = [self.id_to_itemid[rec[0]] for rec in \n",
    "                    self.model.recommend(userid=self.userid_to_id[user], \n",
    "                                         user_items=sparse_user_item,   # на вход user-item matrix\n",
    "                                         N=N, \n",
    "                                         filter_already_liked_items=False, \n",
    "                                         filter_items=filter_items,\n",
    "                                         recalculate_user=True)]\n",
    "        if len(res) < N:\n",
    "            res = np.append(res, self.popularity[:(N - len(res))])\n",
    "\n",
    "        assert len(res) == N, 'Количество рекомендаций != {}'.format(N)\n",
    "        return res\n",
    "\n",
    "    def get_own_recommendations(self, user, N=5):\n",
    "        \"\"\"Рекомендуем товары среди тех, которые юзер уже купил\"\"\"\n",
    "\n",
    "        if user not in self.userid_to_id.keys():\n",
    "            return self.popularity[:N]\n",
    "\n",
    "        filter_items = [self.itemid_to_id[999999]]\n",
    "\n",
    "        # your_code\n",
    "        sparse_user_item=csr_matrix(self.user_item_matrix).tocsr()\n",
    "        \n",
    "        res = [self.id_to_itemid[rec[0]] for rec in \n",
    "                    self.own_recommender.recommend(userid=self.userid_to_id[user], \n",
    "                                         user_items=sparse_user_item,   # на вход user-item matrix\n",
    "                                         N=N, \n",
    "                                         filter_already_liked_items=False, \n",
    "                                         filter_items=filter_items,\n",
    "                                         recalculate_user=True)]\n",
    " \n",
    "        if len(res) < N:\n",
    "            res = np.append(res, self.popularity[:(N - len(res))])\n",
    "\n",
    "        assert len(res) == N, 'Количество рекомендаций != {}'.format(N)\n",
    "        return res\n",
    "    \n",
    "recommender = MainRecommender(data_train_lvl_1)"
   ]
  },
  {
   "cell_type": "code",
   "execution_count": 11,
   "metadata": {},
   "outputs": [
    {
     "data": {
      "text/plain": [
       "0.057347205235972414"
      ]
     },
     "execution_count": 11,
     "metadata": {},
     "output_type": "execute_result"
    }
   ],
   "source": [
    "result_lvl_1 = data_val_lvl_1.groupby('user_id')['item_id'].unique().reset_index()\n",
    "result_lvl_1.columns=['user_id', 'actual']\n",
    "result_lvl_1['als'] = result_lvl_1['user_id'].apply(lambda x: recommender.get_als_recommendations(x, N=50))\n",
    "result_lvl_1.apply(lambda row: recall_at_k(row['als'], row['actual'], k=50), axis=1).mean()"
   ]
  },
  {
   "cell_type": "code",
   "execution_count": 12,
   "metadata": {},
   "outputs": [],
   "source": [
    "# Готовим тестовый датасет\n",
    "\n",
    "users_lvl_2 = pd.DataFrame(data_train_lvl_2['user_id'].unique())\n",
    "users_lvl_2.columns = ['user_id']\n",
    "\n",
    "train_users = data_train_lvl_1['user_id'].unique()\n",
    "users_lvl_2 = users_lvl_2[users_lvl_2['user_id'].isin(train_users)]\n",
    "\n",
    "users_lvl_2['candidates'] = users_lvl_2['user_id'].apply(lambda x: recommender.get_own_recommendations(x, N=50))\n",
    "\n",
    "df=pd.DataFrame({'user_id':users_lvl_2.user_id.values.repeat(len(users_lvl_2.candidates[0])),\n",
    "                 'item_id':np.concatenate(users_lvl_2.candidates.values)})\n",
    "\n",
    "targets_lvl_2 = data_train_lvl_2[['user_id', 'item_id']].copy()\n",
    "targets_lvl_2['target'] = 1  # тут только покупки \n",
    "targets_lvl_2 = df.merge(targets_lvl_2, on=['user_id', 'item_id'], how='left')\n",
    "targets_lvl_2['target'].fillna(0, inplace= True)\n",
    "\n",
    "targets_lvl_2 = df.merge(targets_lvl_2, on=['user_id', 'item_id'], how='left')\n",
    "\n",
    "targets_lvl_2 = targets_lvl_2.merge(item_features, on='item_id', how='left')\n",
    "targets_lvl_2 = targets_lvl_2.merge(user_features, on='user_id', how='left')"
   ]
  },
  {
   "cell_type": "code",
   "execution_count": 13,
   "metadata": {},
   "outputs": [
    {
     "data": {
      "text/html": [
       "<div>\n",
       "<style scoped>\n",
       "    .dataframe tbody tr th:only-of-type {\n",
       "        vertical-align: middle;\n",
       "    }\n",
       "\n",
       "    .dataframe tbody tr th {\n",
       "        vertical-align: top;\n",
       "    }\n",
       "\n",
       "    .dataframe thead th {\n",
       "        text-align: right;\n",
       "    }\n",
       "</style>\n",
       "<table border=\"1\" class=\"dataframe\">\n",
       "  <thead>\n",
       "    <tr style=\"text-align: right;\">\n",
       "      <th></th>\n",
       "      <th>user_id</th>\n",
       "      <th>item_id</th>\n",
       "      <th>target</th>\n",
       "      <th>manufacturer</th>\n",
       "      <th>department</th>\n",
       "      <th>brand</th>\n",
       "      <th>commodity_desc</th>\n",
       "      <th>sub_commodity_desc</th>\n",
       "      <th>curr_size_of_product</th>\n",
       "      <th>age_desc</th>\n",
       "      <th>marital_status_code</th>\n",
       "      <th>income_desc</th>\n",
       "      <th>homeowner_desc</th>\n",
       "      <th>hh_comp_desc</th>\n",
       "      <th>household_size_desc</th>\n",
       "      <th>kid_category_desc</th>\n",
       "    </tr>\n",
       "  </thead>\n",
       "  <tbody>\n",
       "    <tr>\n",
       "      <th>0</th>\n",
       "      <td>2070</td>\n",
       "      <td>1105426</td>\n",
       "      <td>0.0</td>\n",
       "      <td>69.0</td>\n",
       "      <td>DELI</td>\n",
       "      <td>Private</td>\n",
       "      <td>SANDWICHES</td>\n",
       "      <td>SANDWICHES - (COLD)</td>\n",
       "      <td></td>\n",
       "      <td>45-54</td>\n",
       "      <td>U</td>\n",
       "      <td>50-74K</td>\n",
       "      <td>Unknown</td>\n",
       "      <td>Unknown</td>\n",
       "      <td>1</td>\n",
       "      <td>None/Unknown</td>\n",
       "    </tr>\n",
       "    <tr>\n",
       "      <th>1</th>\n",
       "      <td>2070</td>\n",
       "      <td>834103</td>\n",
       "      <td>1.0</td>\n",
       "      <td>2224.0</td>\n",
       "      <td>GROCERY</td>\n",
       "      <td>National</td>\n",
       "      <td>SOFT DRINKS</td>\n",
       "      <td>SFT DRNK SNGL SRV BTL CARB (EX</td>\n",
       "      <td>20 OZ</td>\n",
       "      <td>45-54</td>\n",
       "      <td>U</td>\n",
       "      <td>50-74K</td>\n",
       "      <td>Unknown</td>\n",
       "      <td>Unknown</td>\n",
       "      <td>1</td>\n",
       "      <td>None/Unknown</td>\n",
       "    </tr>\n",
       "  </tbody>\n",
       "</table>\n",
       "</div>"
      ],
      "text/plain": [
       "   user_id  item_id  target  manufacturer department     brand commodity_desc  \\\n",
       "0     2070  1105426     0.0          69.0       DELI   Private     SANDWICHES   \n",
       "1     2070   834103     1.0        2224.0    GROCERY  National    SOFT DRINKS   \n",
       "\n",
       "               sub_commodity_desc curr_size_of_product age_desc  \\\n",
       "0             SANDWICHES - (COLD)                         45-54   \n",
       "1  SFT DRNK SNGL SRV BTL CARB (EX                20 OZ    45-54   \n",
       "\n",
       "  marital_status_code income_desc homeowner_desc hh_comp_desc  \\\n",
       "0                   U      50-74K        Unknown      Unknown   \n",
       "1                   U      50-74K        Unknown      Unknown   \n",
       "\n",
       "  household_size_desc kid_category_desc  \n",
       "0                   1      None/Unknown  \n",
       "1                   1      None/Unknown  "
      ]
     },
     "execution_count": 13,
     "metadata": {},
     "output_type": "execute_result"
    }
   ],
   "source": [
    "targets_lvl_2.head(2)"
   ]
  },
  {
   "cell_type": "code",
   "execution_count": 14,
   "metadata": {},
   "outputs": [],
   "source": [
    "def new_feature(target_df, df):\n",
    "    # Средний чек\n",
    "    average_check = df.groupby(['user_id', 'basket_id'], as_index=False)['sales_value'].sum()\n",
    "    average_check = average_check.groupby('user_id', as_index=False).mean()\n",
    "    average_check = average_check.drop('basket_id', axis=1)\n",
    "    average_check.rename(columns={'sales_value': 'average_check'}, inplace=True)\n",
    "    target_df = target_df.merge(average_check, on='user_id', how='left')\n",
    "    # сумма покупки\n",
    "    num_pur = df.merge(item_features, on='item_id', how='left')\n",
    "    num_pur = num_pur.groupby(['user_id', 'department'], as_index=False)['quantity'].sum()\n",
    "    num_pur.rename(columns={'quantity': 'num_pur'}, inplace=True)\n",
    "    num_pur['num_pur'].fillna(0, inplace=True)\n",
    "    target_df = target_df.merge(num_pur, on=['user_id', 'department'], how='left')\n",
    "    # Цена\n",
    "    price = df.loc[:,('item_id', 'quantity', 'sales_value')]\n",
    "    price = price.groupby('item_id', as_index=False)[['quantity', 'sales_value']].sum()\n",
    "    price['price'] = price['sales_value'] / price['quantity']\n",
    "    price = price.drop(['quantity', 'sales_value'], axis=1)\n",
    "    target_df = target_df.merge(price, on='item_id', how='left')\n",
    "    # Товаров в неделю\n",
    "    goods_per_week = df.groupby(['item_id', 'week_no'], as_index=False)['quantity'].sum()\n",
    "    goods_per_week = goods_per_week.groupby('item_id', as_index=False)['quantity'].mean()\n",
    "    goods_per_week.rename(columns={'quantity': 'goods_per_week'}, inplace=True)\n",
    "    goods_per_week['goods_per_week'].fillna(0, inplace=True)\n",
    "    target_df = target_df.merge(goods_per_week, on='item_id', how='left')\n",
    "    # Cреднее количество продаж товара\n",
    "    average_number_product  = df.groupby(['item_id'])['quantity'].count().reset_index()\n",
    "    average_number_product.rename(columns={'quantity': 'quantity_of_sales'}, inplace=True)\n",
    "    average_number_product['quantity_of_sales_per_week'] = average_number_product['quantity_of_sales'] / df['week_no'].nunique()\n",
    "    target_df = target_df.merge(average_number_product, on='item_id')\n",
    "    \n",
    "    return(target_df)\n",
    "    \n",
    "targets_lvl_2 = new_feature(targets_lvl_2, data_train_lvl_2)"
   ]
  },
  {
   "cell_type": "code",
   "execution_count": 15,
   "metadata": {},
   "outputs": [
    {
     "data": {
      "text/plain": [
       "<matplotlib.axes._subplots.AxesSubplot at 0x2cd8f4c0>"
      ]
     },
     "execution_count": 15,
     "metadata": {},
     "output_type": "execute_result"
    },
    {
     "data": {
      "image/png": "[encoded data removed]",
      "text/plain": [
       "<Figure size 1800x720 with 2 Axes>"
      ]
     },
     "metadata": {
      "needs_background": "light"
     },
     "output_type": "display_data"
    }
   ],
   "source": [
    "msno.matrix(targets_lvl_2)"
   ]
  },
  {
   "cell_type": "code",
   "execution_count": 16,
   "metadata": {},
   "outputs": [],
   "source": [
    "# targets_lvl_2.drop(['age_desc', \n",
    "#                     \"marital_status_code\", \n",
    "#                     'income_desc', \n",
    "#                     'homeowner_desc', \n",
    "#                     'hh_comp_desc', \n",
    "#                     'household_size_desc',\n",
    "#                     'kid_category_desc'],\n",
    "#                    axis=1,\n",
    "#                    inplace=True)"
   ]
  },
  {
   "cell_type": "code",
   "execution_count": 17,
   "metadata": {},
   "outputs": [],
   "source": [
    "X_train = targets_lvl_2.drop('target', axis=1)\n",
    "y_train = targets_lvl_2[['target']]"
   ]
  },
  {
   "cell_type": "code",
   "execution_count": 18,
   "metadata": {},
   "outputs": [],
   "source": [
    "cat_feats = X_train.columns[2:].tolist()\n",
    "X_train[cat_feats] = X_train[cat_feats].astype('category')"
   ]
  },
  {
   "cell_type": "code",
   "execution_count": 19,
   "metadata": {},
   "outputs": [
    {
     "name": "stderr",
     "output_type": "stream",
     "text": [
      "C:\\ProgramData\\Anaconda3\\lib\\site-packages\\lightgbm\\basic.py:1551: UserWarning: Using categorical_feature in Dataset.\n",
      "  warnings.warn('Using categorical_feature in Dataset.')\n"
     ]
    },
    {
     "name": "stdout",
     "output_type": "stream",
     "text": [
      "[LightGBM] [Info] Number of positive: 13426, number of negative: 87714\n",
      "[LightGBM] [Warning] Auto-choosing row-wise multi-threading, the overhead of testing was 0.007369 seconds.\n",
      "You can set `force_row_wise=true` to remove the overhead.\n",
      "And if memory is not enough, you can set `force_col_wise=true`.\n",
      "[LightGBM] [Info] Total Bins 8804\n",
      "[LightGBM] [Info] Number of data points in the train set: 101140, number of used features: 21\n",
      "[LightGBM] [Info] Using GOSS\n",
      "[LightGBM] [Info] [binary:BoostFromScore]: pavg=0.132747 -> initscore=-1.876888\n",
      "[LightGBM] [Info] Start training from score -1.876888\n",
      "Training until validation scores don't improve for 20 rounds\n",
      "[100]\ttraining's auc: 0.89107\n",
      "[200]\ttraining's auc: 0.904832\n",
      "[300]\ttraining's auc: 0.91531\n",
      "[400]\ttraining's auc: 0.923361\n",
      "[500]\ttraining's auc: 0.929925\n",
      "[600]\ttraining's auc: 0.93573\n",
      "[700]\ttraining's auc: 0.940984\n",
      "[800]\ttraining's auc: 0.945714\n",
      "[900]\ttraining's auc: 0.949938\n",
      "[1000]\ttraining's auc: 0.953908\n",
      "[1100]\ttraining's auc: 0.957557\n",
      "[1200]\ttraining's auc: 0.960864\n",
      "[1300]\ttraining's auc: 0.963849\n",
      "[1400]\ttraining's auc: 0.966611\n",
      "[1500]\ttraining's auc: 0.969162\n",
      "[1600]\ttraining's auc: 0.971498\n",
      "[1700]\ttraining's auc: 0.97362\n",
      "[1800]\ttraining's auc: 0.9756\n",
      "[1900]\ttraining's auc: 0.977402\n",
      "[2000]\ttraining's auc: 0.979105\n",
      "[2100]\ttraining's auc: 0.980692\n",
      "[2200]\ttraining's auc: 0.982159\n",
      "[2300]\ttraining's auc: 0.983525\n",
      "[2400]\ttraining's auc: 0.984781\n",
      "[2500]\ttraining's auc: 0.985952\n",
      "[2600]\ttraining's auc: 0.987019\n",
      "[2700]\ttraining's auc: 0.988012\n",
      "[2800]\ttraining's auc: 0.988902\n",
      "[2900]\ttraining's auc: 0.989712\n",
      "[3000]\ttraining's auc: 0.99049\n",
      "[3100]\ttraining's auc: 0.991211\n",
      "[3200]\ttraining's auc: 0.991899\n",
      "[3300]\ttraining's auc: 0.99249\n",
      "[3400]\ttraining's auc: 0.993066\n",
      "[3500]\ttraining's auc: 0.993576\n",
      "[3600]\ttraining's auc: 0.994073\n",
      "[3700]\ttraining's auc: 0.99454\n",
      "[3800]\ttraining's auc: 0.994959\n",
      "[3900]\ttraining's auc: 0.99534\n",
      "[4000]\ttraining's auc: 0.99569\n",
      "[4100]\ttraining's auc: 0.996014\n",
      "[4200]\ttraining's auc: 0.996304\n",
      "[4300]\ttraining's auc: 0.996577\n",
      "[4400]\ttraining's auc: 0.996835\n",
      "[4500]\ttraining's auc: 0.997081\n",
      "[4600]\ttraining's auc: 0.997289\n",
      "[4700]\ttraining's auc: 0.997486\n",
      "[4800]\ttraining's auc: 0.997667\n",
      "[4900]\ttraining's auc: 0.997837\n",
      "[5000]\ttraining's auc: 0.997996\n",
      "[5100]\ttraining's auc: 0.998147\n",
      "[5200]\ttraining's auc: 0.998278\n",
      "[5300]\ttraining's auc: 0.998409\n",
      "[5400]\ttraining's auc: 0.998517\n",
      "[5500]\ttraining's auc: 0.998622\n",
      "[5600]\ttraining's auc: 0.998714\n",
      "[5700]\ttraining's auc: 0.998813\n",
      "[5800]\ttraining's auc: 0.998885\n",
      "[5900]\ttraining's auc: 0.998969\n",
      "[6000]\ttraining's auc: 0.999047\n",
      "Did not meet early stopping. Best iteration is:\n",
      "[6000]\ttraining's auc: 0.999047\n"
     ]
    }
   ],
   "source": [
    "import lightgbm as lgb\n",
    "\n",
    "dtrain = lgb.Dataset(data=X_train, label=y_train, categorical_feature=cat_feats)\n",
    "#dvalid = lgb.Dataset(data=x_valid, label=y_valid)\n",
    "\n",
    "params = {\n",
    "            \"boosting_type\": \"goss\",\n",
    "            \"objective\": \"binary\",\n",
    "            \"metric\": \"auc\",\n",
    "            \"learning_rate\": 0.01,\n",
    "            \"n_jobs\": 6,\n",
    "            \"seed\": 27\n",
    "         }\n",
    "        \n",
    "model_lgb = lgb.train(\n",
    "                      params=params,\n",
    "                      train_set=dtrain,\n",
    "                      num_boost_round=6000,\n",
    "                      valid_sets=[dtrain],\n",
    "                      categorical_feature=\"auto\",\n",
    "                      early_stopping_rounds=20,\n",
    "                      verbose_eval=100\n",
    "                     )\n",
    "\n"
   ]
  },
  {
   "cell_type": "code",
   "execution_count": 20,
   "metadata": {},
   "outputs": [],
   "source": [
    "preds = model_lgb.predict(X_train)"
   ]
  },
  {
   "cell_type": "code",
   "execution_count": 21,
   "metadata": {},
   "outputs": [],
   "source": [
    "targets_lvl_2['pred'] = preds\n",
    "targets_lvl_2 = targets_lvl_2.sort_values(['user_id', 'pred'], ascending=[False, False])"
   ]
  },
  {
   "cell_type": "code",
   "execution_count": 59,
   "metadata": {},
   "outputs": [
    {
     "data": {
      "text/html": [
       "<div>\n",
       "<style scoped>\n",
       "    .dataframe tbody tr th:only-of-type {\n",
       "        vertical-align: middle;\n",
       "    }\n",
       "\n",
       "    .dataframe tbody tr th {\n",
       "        vertical-align: top;\n",
       "    }\n",
       "\n",
       "    .dataframe thead th {\n",
       "        text-align: right;\n",
       "    }\n",
       "</style>\n",
       "<table border=\"1\" class=\"dataframe\">\n",
       "  <thead>\n",
       "    <tr style=\"text-align: right;\">\n",
       "      <th></th>\n",
       "      <th>user_id</th>\n",
       "      <th>actual</th>\n",
       "    </tr>\n",
       "  </thead>\n",
       "  <tbody>\n",
       "    <tr>\n",
       "      <th>0</th>\n",
       "      <td>1</td>\n",
       "      <td>[821867, 834484, 856942, 865456, 889248, 90795...</td>\n",
       "    </tr>\n",
       "    <tr>\n",
       "      <th>1</th>\n",
       "      <td>3</td>\n",
       "      <td>[835476, 851057, 872021, 878302, 879948, 90963...</td>\n",
       "    </tr>\n",
       "  </tbody>\n",
       "</table>\n",
       "</div>"
      ],
      "text/plain": [
       "   user_id                                             actual\n",
       "0        1  [821867, 834484, 856942, 865456, 889248, 90795...\n",
       "1        3  [835476, 851057, 872021, 878302, 879948, 90963..."
      ]
     },
     "execution_count": 59,
     "metadata": {},
     "output_type": "execute_result"
    }
   ],
   "source": [
    "result = data_val_lvl_2.groupby('user_id')['item_id'].unique().reset_index()\n",
    "result.columns=['user_id', 'actual']\n",
    "result.head(2)"
   ]
  },
  {
   "cell_type": "code",
   "execution_count": 60,
   "metadata": {},
   "outputs": [],
   "source": [
    "preds_lgbm = targets_lvl_2[['user_id', 'item_id']].copy().drop_duplicates()\n",
    "preds_lgbm = preds_lgbm.groupby('user_id')['item_id'].apply(list).reset_index()\n",
    "preds_lgbm['item_id'] = preds_lgbm.apply(lambda row: row['item_id'][:5], axis=1)"
   ]
  },
  {
   "cell_type": "code",
   "execution_count": 61,
   "metadata": {},
   "outputs": [],
   "source": [
    "result = result.merge(preds_lgbm, on='user_id', how='left')\n",
    "result.rename(columns={'item_id': 'lgb'}, inplace=True)"
   ]
  },
  {
   "cell_type": "code",
   "execution_count": 62,
   "metadata": {},
   "outputs": [],
   "source": [
    "# result = result[result['lgb'].notna()]"
   ]
  },
  {
   "cell_type": "code",
   "execution_count": 80,
   "metadata": {
    "scrolled": true
   },
   "outputs": [
    {
     "data": {
      "text/html": [
       "<div>\n",
       "<style scoped>\n",
       "    .dataframe tbody tr th:only-of-type {\n",
       "        vertical-align: middle;\n",
       "    }\n",
       "\n",
       "    .dataframe tbody tr th {\n",
       "        vertical-align: top;\n",
       "    }\n",
       "\n",
       "    .dataframe thead th {\n",
       "        text-align: right;\n",
       "    }\n",
       "</style>\n",
       "<table border=\"1\" class=\"dataframe\">\n",
       "  <thead>\n",
       "    <tr style=\"text-align: right;\">\n",
       "      <th></th>\n",
       "      <th>user_id</th>\n",
       "      <th>actual</th>\n",
       "      <th>lgb</th>\n",
       "    </tr>\n",
       "  </thead>\n",
       "  <tbody>\n",
       "    <tr>\n",
       "      <th>0</th>\n",
       "      <td>1</td>\n",
       "      <td>[821867, 834484, 856942, 865456, 889248, 90795...</td>\n",
       "      <td>[8293439, 9655212, 9527558, 5577022, 9297615]</td>\n",
       "    </tr>\n",
       "    <tr>\n",
       "      <th>1</th>\n",
       "      <td>3</td>\n",
       "      <td>[835476, 851057, 872021, 878302, 879948, 90963...</td>\n",
       "      <td>[845193, 845705, 1076875, 1056005, 982790]</td>\n",
       "    </tr>\n",
       "    <tr>\n",
       "      <th>2</th>\n",
       "      <td>6</td>\n",
       "      <td>[920308, 926804, 946489, 1006718, 1017061, 107...</td>\n",
       "      <td>[895268, 897088, 12757544, 13115971, 9420159]</td>\n",
       "    </tr>\n",
       "    <tr>\n",
       "      <th>3</th>\n",
       "      <td>7</td>\n",
       "      <td>[840386, 889774, 898068, 909714, 929067, 95347...</td>\n",
       "      <td>[840386, 9338009, 983316, 9527174, 993838]</td>\n",
       "    </tr>\n",
       "    <tr>\n",
       "      <th>4</th>\n",
       "      <td>8</td>\n",
       "      <td>[835098, 872137, 910439, 924610, 992977, 10412...</td>\n",
       "      <td>[8181377, 8159536, 1021715, 930385, 983795]</td>\n",
       "    </tr>\n",
       "    <tr>\n",
       "      <th>5</th>\n",
       "      <td>9</td>\n",
       "      <td>[864335, 990865, 1029743, 9297474, 10457112, 8...</td>\n",
       "      <td>[12171886, 12172071, 8019977, 6039859, 907647]</td>\n",
       "    </tr>\n",
       "    <tr>\n",
       "      <th>6</th>\n",
       "      <td>13</td>\n",
       "      <td>[6534178, 1104146, 829197, 840361, 862070, 884...</td>\n",
       "      <td>[886317, 1038985, 9488065, 9859111, 1075007]</td>\n",
       "    </tr>\n",
       "    <tr>\n",
       "      <th>7</th>\n",
       "      <td>14</td>\n",
       "      <td>[840601, 867293, 933067, 951590, 952408, 96569...</td>\n",
       "      <td>[1129609, 861419, 878445, 6979753, 7167084]</td>\n",
       "    </tr>\n",
       "    <tr>\n",
       "      <th>8</th>\n",
       "      <td>15</td>\n",
       "      <td>[910439, 1082185, 959076, 1023958, 1082310, 13...</td>\n",
       "      <td>[895268, 931757, 1082310, 9881592, 13417590]</td>\n",
       "    </tr>\n",
       "    <tr>\n",
       "      <th>9</th>\n",
       "      <td>16</td>\n",
       "      <td>[1062973, 1082185, 13007710]</td>\n",
       "      <td>[12263788, 844165, 951590, 1035843, 1075368]</td>\n",
       "    </tr>\n",
       "  </tbody>\n",
       "</table>\n",
       "</div>"
      ],
      "text/plain": [
       "   user_id                                             actual  \\\n",
       "0        1  [821867, 834484, 856942, 865456, 889248, 90795...   \n",
       "1        3  [835476, 851057, 872021, 878302, 879948, 90963...   \n",
       "2        6  [920308, 926804, 946489, 1006718, 1017061, 107...   \n",
       "3        7  [840386, 889774, 898068, 909714, 929067, 95347...   \n",
       "4        8  [835098, 872137, 910439, 924610, 992977, 10412...   \n",
       "5        9  [864335, 990865, 1029743, 9297474, 10457112, 8...   \n",
       "6       13  [6534178, 1104146, 829197, 840361, 862070, 884...   \n",
       "7       14  [840601, 867293, 933067, 951590, 952408, 96569...   \n",
       "8       15  [910439, 1082185, 959076, 1023958, 1082310, 13...   \n",
       "9       16                       [1062973, 1082185, 13007710]   \n",
       "\n",
       "                                              lgb  \n",
       "0   [8293439, 9655212, 9527558, 5577022, 9297615]  \n",
       "1      [845193, 845705, 1076875, 1056005, 982790]  \n",
       "2   [895268, 897088, 12757544, 13115971, 9420159]  \n",
       "3      [840386, 9338009, 983316, 9527174, 993838]  \n",
       "4     [8181377, 8159536, 1021715, 930385, 983795]  \n",
       "5  [12171886, 12172071, 8019977, 6039859, 907647]  \n",
       "6    [886317, 1038985, 9488065, 9859111, 1075007]  \n",
       "7     [1129609, 861419, 878445, 6979753, 7167084]  \n",
       "8    [895268, 931757, 1082310, 9881592, 13417590]  \n",
       "9    [12263788, 844165, 951590, 1035843, 1075368]  "
      ]
     },
     "execution_count": 80,
     "metadata": {},
     "output_type": "execute_result"
    }
   ],
   "source": [
    "result.head(10)"
   ]
  },
  {
   "cell_type": "code",
   "execution_count": 64,
   "metadata": {},
   "outputs": [
    {
     "data": {
      "text/plain": [
       "[845193, 845705, 1076875, 1056005, 982790]"
      ]
     },
     "execution_count": 64,
     "metadata": {},
     "output_type": "execute_result"
    }
   ],
   "source": [
    "def predict_user(id_user):\n",
    "    rec_als = recommender.get_als_recommendations(id_user, N=150)\n",
    "    \n",
    "    df=pd.DataFrame({'item_id':rec_als})\n",
    "    df['user_id'] = id_user\n",
    "    \n",
    "    df = df.merge(item_features, on='item_id', how='left')\n",
    "    df = df.merge(user_features, on='user_id', how='left')\n",
    "    \n",
    "    df = new_feature(df, data_train_lvl_2)\n",
    "    \n",
    "    df[cat_feats] = df[cat_feats].astype('category')\n",
    "    preds = model_lgb.predict(df)\n",
    "    \n",
    "    df['pred'] = preds\n",
    "    df = df.sort_values(['user_id', 'pred'], ascending=[False, False])\n",
    "    \n",
    "    return df['item_id'].to_list()[:5]\n",
    " \n",
    "predict_user(3)"
   ]
  },
  {
   "cell_type": "code",
   "execution_count": 74,
   "metadata": {},
   "outputs": [],
   "source": [
    "result.loc[result['lgb'].isna(), 'lgb'] = result.loc[result['lgb'].isna(), 'user_id'].apply(lambda x: predict_user(x))"
   ]
  },
  {
   "cell_type": "code",
   "execution_count": 76,
   "metadata": {},
   "outputs": [
    {
     "data": {
      "text/plain": [
       "0.2208619000979416"
      ]
     },
     "execution_count": 76,
     "metadata": {},
     "output_type": "execute_result"
    }
   ],
   "source": [
    "result.apply(lambda row: precision_at_k(row['lgb'], row['actual'], k=5), axis=1).mean()"
   ]
  },
  {
   "cell_type": "code",
   "execution_count": 82,
   "metadata": {},
   "outputs": [],
   "source": [
    "result.drop(['actual'], axis=1, inplace=True)"
   ]
  },
  {
   "cell_type": "code",
   "execution_count": 84,
   "metadata": {},
   "outputs": [],
   "source": [
    "result.to_csv('result.csv')"
   ]
  },
  {
   "cell_type": "code",
   "execution_count": null,
   "metadata": {},
   "outputs": [],
   "source": []
  }
 ],
 "metadata": {
  "kernelspec": {
   "display_name": "Python 3",
   "language": "python",
   "name": "python3"
  },
  "language_info": {
   "codemirror_mode": {
    "name": "ipython",
    "version": 3
   },
   "file_extension": ".py",
   "mimetype": "text/x-python",
   "name": "python",
   "nbconvert_exporter": "python",
   "pygments_lexer": "ipython3",
   "version": "3.8.3"
  }
 },
 "nbformat": 4,
 "nbformat_minor": 4
}
