{
 "cells": [
  {
   "cell_type": "code",
   "execution_count": 1,
   "metadata": {},
   "outputs": [],
   "source": [
    "import numpy as np"
   ]
  },
  {
   "cell_type": "markdown",
   "metadata": {},
   "source": [
    "1) Сравните метрики hit_rate@k, precision@k. Какую матрику использовать предпочтительно и почему. Привидите пример 2-3 задач (опишите, что является клиентом, что товаром), в которой более уместно использовать метрику hit_rate?"
   ]
  },
  {
   "cell_type": "markdown",
   "metadata": {},
   "source": [
    "hit_rate@k - был ли хотя бы 1 релевантный товар среди рекомендованных \n",
    "\n",
    "precision@k - доля релевантных товаров среди k рекомендованных = Какой % рекомендованных товаров юзер купил"
   ]
  },
  {
   "cell_type": "markdown",
   "metadata": {},
   "source": [
    "1. Рекомендация музыки на яндексмузыке. Предпочтительней precision@k.\n",
    "музыка - товар, юзер - клиент.\n",
    "\n",
    "2. Рекомендация товаров ситилинк. Предпочтительней hit_rate@k. быт. ьехника - товар, юзер - клиент."
   ]
  },
  {
   "cell_type": "markdown",
   "metadata": {},
   "source": [
    "2)В метрике NDCG@k мы используем логарифм в знаменателе. Как Вы думаете, почему именно логарифм? Какую функцию можно использовать вместо логарифма? Привидите пример метрик/подходов к предобработке данных/функций ошибок в ML, где также в знаменателе присутствует логарифм."
   ]
  },
  {
   "cell_type": "markdown",
   "metadata": {},
   "source": [
    "Использование логарифма как функции дисконтирования можно объяснить следующими интуитивными соображениями: с точки зрения ранжирования позиции в начале списка отличаются гораздо сильнее, чем позиции в его конце. Так, в случае поискового движка между позициями 1 и 11 целая пропасть (лишь в нескольких случаях из ста пользователь заходит дальшей первой страницы поисковой выдачи), а между позициями 101 и 111 особой разницы нет — до них мало кто доходит. Эти субъективные соображения прекрасно выражаются с помощью логарифма."
   ]
  },
  {
   "cell_type": "markdown",
   "metadata": {},
   "source": [
    "Вместо логарифма можно выбрать любую медленно возрастающую функцию, напрмер корень из x."
   ]
  },
  {
   "cell_type": "markdown",
   "metadata": {},
   "source": [
    "Логарифм в знаменателе нашел только у Discounted cumulative gain at K (DCG@K) и normalized discounted cumulative gain at K (nDCG@K)"
   ]
  },
  {
   "cell_type": "markdown",
   "metadata": {},
   "source": [
    "3)Какие еще матрики (Вы можете вспомнить уже пройденные Вами или посмотреть в интернете) могут использоваться для рекомендательных систем (приведите примеры метрики и чем являются интеракции, чтобы она могла быть использована).ь"
   ]
  },
  {
   "cell_type": "markdown",
   "metadata": {},
   "source": [
    "Cumulative gain at K (CG@K) — базовая метрика ранжирования, которая использует простую идею: чем релевантные элементы в этом топе, тем лучше."
   ]
  },
  {
   "cell_type": "markdown",
   "metadata": {},
   "source": [
    "Expected reciprocal rank (ERR) — пример метрики качества ранжирования, основанной на каскадной модели."
   ]
  },
  {
   "cell_type": "markdown",
   "metadata": {},
   "source": [
    "Метрики на основе ранговой корреляции\n",
    "\n",
    "Ранговый коэффициент корреляции Кендэлла: основан на подсчете согласованных (и несогласованных) пар у перестановок — пар элементов, котором перестановки присвоили одинаковый (разный) порядок.\n",
    "\n",
    "Ранговый коэффициент корреляции Спирмена: корреляция Пирсона, посчитанная на значениях рангов."
   ]
  },
  {
   "cell_type": "markdown",
   "metadata": {},
   "source": [
    "4)boughted = [1, 3, 5, 7, 9, 11]\n",
    "\n",
    "recommended = [2, 5, 7, 4, 11, 9, 8, 10, 12, 3]\n",
    "\n",
    "Посчитайте на этих данных pr@8, rec@8, AP@8, NDCG@8, RR@8, ERR@8"
   ]
  },
  {
   "cell_type": "code",
   "execution_count": 2,
   "metadata": {},
   "outputs": [],
   "source": [
    "boughted = [1, 3, 5, 7, 9, 11]\n",
    "recommended = [2, 5, 7, 4, 11, 9, 8, 10, 12, 3]"
   ]
  },
  {
   "cell_type": "code",
   "execution_count": 3,
   "metadata": {},
   "outputs": [
    {
     "name": "stdout",
     "output_type": "stream",
     "text": [
      "[False False  True  True  True  True]\n"
     ]
    },
    {
     "data": {
      "text/plain": [
       "0.5"
      ]
     },
     "execution_count": 3,
     "metadata": {},
     "output_type": "execute_result"
    }
   ],
   "source": [
    "def precision_at_k(recommended_list, bought_list, k=5):\n",
    "    \n",
    "    bought_list = np.array(bought_list)\n",
    "    recommended_list = np.array(recommended_list)\n",
    "    \n",
    "    bought_list = bought_list  # Тут нет [:k] !!\n",
    "    recommended_list = recommended_list[:k]\n",
    "    \n",
    "    flags = np.isin(bought_list, recommended_list)\n",
    "    print(flags)\n",
    "    \n",
    "    \n",
    "    precision = flags.sum() / len(recommended_list)\n",
    "    \n",
    "    \n",
    "    return precision\n",
    "\n",
    "precision_at_k(recommended, boughted, k=8)"
   ]
  },
  {
   "cell_type": "code",
   "execution_count": 4,
   "metadata": {},
   "outputs": [
    {
     "data": {
      "text/plain": [
       "0.6666666666666666"
      ]
     },
     "execution_count": 4,
     "metadata": {},
     "output_type": "execute_result"
    }
   ],
   "source": [
    "def recall_at_k(recommended_list, bought_list, k=5):\n",
    "    bought_list = np.array(bought_list)\n",
    "    recommended_list = np.array(recommended_list)[:k]\n",
    "    \n",
    "    flags = np.isin(bought_list, recommended_list)\n",
    "    \n",
    "    recall = flags.sum() / len(bought_list)\n",
    "    \n",
    "    return recall\n",
    "\n",
    "recall_at_k(recommended, boughted, k=8)"
   ]
  },
  {
   "cell_type": "code",
   "execution_count": 5,
   "metadata": {},
   "outputs": [
    {
     "name": "stdout",
     "output_type": "stream",
     "text": [
      "[False False False False False False]\n",
      "[False False  True False False False]\n",
      "[False False  True  True False False]\n",
      "[False False  True  True False  True]\n"
     ]
    },
    {
     "data": {
      "text/plain": [
       "0.32"
      ]
     },
     "execution_count": 5,
     "metadata": {},
     "output_type": "execute_result"
    }
   ],
   "source": [
    "def ap_k(recommended_list, bought_list, k=5):\n",
    "    \n",
    "    bought_list = np.array(bought_list)\n",
    "    recommended_list = np.array(recommended_list)\n",
    "    \n",
    "    flags = np.isin(recommended_list, bought_list)\n",
    "    \n",
    "    if sum(flags) == 0:\n",
    "        return 0\n",
    "    \n",
    "    sum_ = 0\n",
    "    for i in range(1, k+1): \n",
    "        if flags[i] == True:\n",
    "            p_k = precision_at_k(recommended_list, bought_list, k=i)\n",
    "            sum_ += p_k\n",
    "            \n",
    "    result = sum_ / sum(flags)\n",
    "    \n",
    "    return result\n",
    "\n",
    "ap_k(recommended, boughted, k=8)"
   ]
  },
  {
   "cell_type": "code",
   "execution_count": 6,
   "metadata": {},
   "outputs": [
    {
     "data": {
      "text/plain": [
       "0.5653142737255068"
      ]
     },
     "execution_count": 6,
     "metadata": {},
     "output_type": "execute_result"
    }
   ],
   "source": [
    "def nDCG_k(recommended_list, bought_list, k=5):\n",
    "    \n",
    "    bought_list = np.array(bought_list)\n",
    "    recommended_list = np.array(recommended_list)\n",
    "    \n",
    "    if recommended_list.shape[0] < k:\n",
    "        k = recommended_list.shape[0]\n",
    "    \n",
    "    product_availability = [(recommended_list[i] in bought_list) for i in range(k)]\n",
    "    \n",
    "    #DCG@k\n",
    "    DCG = 0\n",
    "    DCG += product_availability[0] / 1\n",
    "    for i in range(1, k):\n",
    "        DCG += product_availability[i] / np.log(i+1)\n",
    "    DCG = DCG / k\n",
    "    \n",
    "    #iDCG\n",
    "    iDCG = 1\n",
    "    for i in range(1, k):\n",
    "        iDCG += 1 / np.log(i+1)\n",
    "    iDCG = iDCG / k\n",
    "    \n",
    "    return DCG / iDCG\n",
    "    \n",
    "nDCG_k(recommended, boughted, k=8)      "
   ]
  },
  {
   "cell_type": "code",
   "execution_count": 7,
   "metadata": {},
   "outputs": [
    {
     "data": {
      "text/plain": [
       "0.145"
      ]
     },
     "execution_count": 7,
     "metadata": {},
     "output_type": "execute_result"
    }
   ],
   "source": [
    "def mean_reciprocal_rank(recommended_list, bought_list):\n",
    "    ranks=0.\n",
    "    for item_rec in recommended_list:\n",
    "        for i, item_bought in enumerate(bought_list):\n",
    "            if item_rec == item_bought:\n",
    "                ranks += 1 / (i+1)\n",
    "    return ranks / len(recommended_list)\n",
    "\n",
    "mean_reciprocal_rank(recommended, boughted)    "
   ]
  },
  {
   "cell_type": "code",
   "execution_count": 8,
   "metadata": {},
   "outputs": [
    {
     "data": {
      "text/plain": [
       "0.5"
      ]
     },
     "execution_count": 8,
     "metadata": {},
     "output_type": "execute_result"
    }
   ],
   "source": [
    "def reciprocal_rank(recommended_list, bought_list):\n",
    "    ranks=0.\n",
    "    \n",
    "    for i, item in enumerate(recommended_list):\n",
    "        if item in bought_list:\n",
    "            return 1 / (i+1)\n",
    "    return 0\n",
    "    \n",
    "reciprocal_rank(recommended, boughted)   "
   ]
  },
  {
   "cell_type": "code",
   "execution_count": 9,
   "metadata": {},
   "outputs": [
    {
     "name": "stdout",
     "output_type": "stream",
     "text": [
      "[False, True, True, False, True, True, False, False]\n",
      "[2, 3, 5, 6]\n",
      "[0. 1. 1. 0. 1. 1. 0. 0.]\n",
      "[0.    0.125 0.    0.    0.    0.    0.    0.   ]\n"
     ]
    },
    {
     "data": {
      "text/plain": [
       "0.125"
      ]
     },
     "execution_count": 9,
     "metadata": {},
     "output_type": "execute_result"
    }
   ],
   "source": [
    "def expected_reciprocal_rank(recommended_list, bought_list, k=8):\n",
    "    \n",
    "    bought_list = np.array(bought_list)\n",
    "    recommended_list = np.array(recommended_list[:k])\n",
    "    \n",
    "    item_relevant = [(recommended_list[i] in bought_list) for i in range(recommended_list.shape[0])]\n",
    "    print(item_relevant)\n",
    "    \n",
    "    rank_item_relevant = [i+1 for i in range(len(item_relevant)) if item_relevant[i]]    \n",
    "    \n",
    "    max_r_true = max(rank_item_relevant)\n",
    "    print(rank_item_relevant)\n",
    "    \n",
    "    p_k = np.zeros(k)    \n",
    "    for i in range(k):\n",
    "        p_k[i] = (2**item_relevant[i] - 1) / (2**1 - 1)   \n",
    "    print(p_k)\n",
    "    \n",
    "    P_k = np.zeros(k)    \n",
    "    P_k[0] = p_k[0]\n",
    "    for i in range(1, k):\n",
    "        P_k[i] = p_k[i]\n",
    "        for j in range(1, i):\n",
    "            P_k[i] *= (1 - p_k[j]) \n",
    "        P_k[i] = P_k[i] / k\n",
    "    print(P_k)\n",
    "        \n",
    "    return sum(P_k)\n",
    "\n",
    "expected_reciprocal_rank(recommended, boughted, k=8)   "
   ]
  }
 ],
 "metadata": {
  "kernelspec": {
   "display_name": "Python 3",
   "language": "python",
   "name": "python3"
  },
  "language_info": {
   "codemirror_mode": {
    "name": "ipython",
    "version": 3
   },
   "file_extension": ".py",
   "mimetype": "text/x-python",
   "name": "python",
   "nbconvert_exporter": "python",
   "pygments_lexer": "ipython3",
   "version": "3.7.6"
  }
 },
 "nbformat": 4,
 "nbformat_minor": 4
}
